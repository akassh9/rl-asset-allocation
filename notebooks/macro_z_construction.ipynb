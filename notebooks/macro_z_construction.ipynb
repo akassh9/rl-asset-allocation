{
 "cells": [
  {
   "cell_type": "code",
   "execution_count": 1,
   "id": "513fac3f",
   "metadata": {},
   "outputs": [],
   "source": [
    "import pandas as pd\n",
    "import numpy as np\n",
    "from pathlib import Path\n",
    "\n",
    "DATA_DIR   = Path(\"../data/processed\")\n",
    "RAW_FILE   = DATA_DIR / \"raw_macro_monthly.csv\"\n",
    "OUT_FILE   = DATA_DIR / \"macro_zscores_monthly.csv\"\n",
    "\n",
    "# hyper-params\n",
    "LOOKBACK_M = 12      # annual Δ\n",
    "ROLL_M     = 120     # 10-year window\n",
    "CLIP_Z     = 3       # winsorise at ±3σ"
   ]
  },
  {
   "cell_type": "code",
   "execution_count": 2,
   "id": "156f6433",
   "metadata": {},
   "outputs": [
    {
     "name": "stdout",
     "output_type": "stream",
     "text": [
      "(1169, 8)\n"
     ]
    },
    {
     "data": {
      "text/html": [
       "<div>\n",
       "<style scoped>\n",
       "    .dataframe tbody tr th:only-of-type {\n",
       "        vertical-align: middle;\n",
       "    }\n",
       "\n",
       "    .dataframe tbody tr th {\n",
       "        vertical-align: top;\n",
       "    }\n",
       "\n",
       "    .dataframe thead th {\n",
       "        text-align: right;\n",
       "    }\n",
       "</style>\n",
       "<table border=\"1\" class=\"dataframe\">\n",
       "  <thead>\n",
       "    <tr style=\"text-align: right;\">\n",
       "      <th></th>\n",
       "      <th>sp500</th>\n",
       "      <th>copper</th>\n",
       "      <th>oil</th>\n",
       "      <th>policy_rate</th>\n",
       "      <th>dgs10</th>\n",
       "      <th>yield_curve</th>\n",
       "      <th>market_vol</th>\n",
       "      <th>stock_bond_corr</th>\n",
       "    </tr>\n",
       "  </thead>\n",
       "  <tbody>\n",
       "    <tr>\n",
       "      <th>1928-01-31</th>\n",
       "      <td>NaN</td>\n",
       "      <td>NaN</td>\n",
       "      <td>NaN</td>\n",
       "      <td>NaN</td>\n",
       "      <td>NaN</td>\n",
       "      <td>NaN</td>\n",
       "      <td>NaN</td>\n",
       "      <td>NaN</td>\n",
       "    </tr>\n",
       "    <tr>\n",
       "      <th>1928-02-29</th>\n",
       "      <td>NaN</td>\n",
       "      <td>NaN</td>\n",
       "      <td>NaN</td>\n",
       "      <td>NaN</td>\n",
       "      <td>NaN</td>\n",
       "      <td>NaN</td>\n",
       "      <td>0.107025</td>\n",
       "      <td>NaN</td>\n",
       "    </tr>\n",
       "    <tr>\n",
       "      <th>1928-03-31</th>\n",
       "      <td>NaN</td>\n",
       "      <td>NaN</td>\n",
       "      <td>NaN</td>\n",
       "      <td>NaN</td>\n",
       "      <td>NaN</td>\n",
       "      <td>NaN</td>\n",
       "      <td>0.115021</td>\n",
       "      <td>NaN</td>\n",
       "    </tr>\n",
       "    <tr>\n",
       "      <th>1928-04-30</th>\n",
       "      <td>NaN</td>\n",
       "      <td>NaN</td>\n",
       "      <td>NaN</td>\n",
       "      <td>NaN</td>\n",
       "      <td>NaN</td>\n",
       "      <td>NaN</td>\n",
       "      <td>0.162668</td>\n",
       "      <td>NaN</td>\n",
       "    </tr>\n",
       "    <tr>\n",
       "      <th>1928-05-31</th>\n",
       "      <td>NaN</td>\n",
       "      <td>NaN</td>\n",
       "      <td>NaN</td>\n",
       "      <td>NaN</td>\n",
       "      <td>NaN</td>\n",
       "      <td>NaN</td>\n",
       "      <td>0.167288</td>\n",
       "      <td>NaN</td>\n",
       "    </tr>\n",
       "  </tbody>\n",
       "</table>\n",
       "</div>"
      ],
      "text/plain": [
       "            sp500  copper  oil  policy_rate  dgs10  yield_curve  market_vol  \\\n",
       "1928-01-31    NaN     NaN  NaN          NaN    NaN          NaN         NaN   \n",
       "1928-02-29    NaN     NaN  NaN          NaN    NaN          NaN    0.107025   \n",
       "1928-03-31    NaN     NaN  NaN          NaN    NaN          NaN    0.115021   \n",
       "1928-04-30    NaN     NaN  NaN          NaN    NaN          NaN    0.162668   \n",
       "1928-05-31    NaN     NaN  NaN          NaN    NaN          NaN    0.167288   \n",
       "\n",
       "            stock_bond_corr  \n",
       "1928-01-31              NaN  \n",
       "1928-02-29              NaN  \n",
       "1928-03-31              NaN  \n",
       "1928-04-30              NaN  \n",
       "1928-05-31              NaN  "
      ]
     },
     "execution_count": 2,
     "metadata": {},
     "output_type": "execute_result"
    }
   ],
   "source": [
    "raw_macro = (\n",
    "    pd.read_csv(RAW_FILE, index_col=0, parse_dates=True)\n",
    "      .sort_index()\n",
    ")\n",
    "\n",
    "print(raw_macro.shape)\n",
    "raw_macro.head()"
   ]
  },
  {
   "cell_type": "code",
   "execution_count": 3,
   "id": "03628acc",
   "metadata": {},
   "outputs": [
    {
     "data": {
      "text/html": [
       "<div>\n",
       "<style scoped>\n",
       "    .dataframe tbody tr th:only-of-type {\n",
       "        vertical-align: middle;\n",
       "    }\n",
       "\n",
       "    .dataframe tbody tr th {\n",
       "        vertical-align: top;\n",
       "    }\n",
       "\n",
       "    .dataframe thead th {\n",
       "        text-align: right;\n",
       "    }\n",
       "</style>\n",
       "<table border=\"1\" class=\"dataframe\">\n",
       "  <thead>\n",
       "    <tr style=\"text-align: right;\">\n",
       "      <th></th>\n",
       "      <th>first_date</th>\n",
       "    </tr>\n",
       "  </thead>\n",
       "  <tbody>\n",
       "    <tr>\n",
       "      <th>sp500</th>\n",
       "      <td>1963-01-31</td>\n",
       "    </tr>\n",
       "    <tr>\n",
       "      <th>copper</th>\n",
       "      <td>1960-01-31</td>\n",
       "    </tr>\n",
       "    <tr>\n",
       "      <th>oil</th>\n",
       "      <td>1946-01-31</td>\n",
       "    </tr>\n",
       "    <tr>\n",
       "      <th>policy_rate</th>\n",
       "      <td>1934-01-31</td>\n",
       "    </tr>\n",
       "    <tr>\n",
       "      <th>dgs10</th>\n",
       "      <td>1962-01-31</td>\n",
       "    </tr>\n",
       "    <tr>\n",
       "      <th>yield_curve</th>\n",
       "      <td>1962-01-31</td>\n",
       "    </tr>\n",
       "    <tr>\n",
       "      <th>market_vol</th>\n",
       "      <td>1928-02-29</td>\n",
       "    </tr>\n",
       "    <tr>\n",
       "      <th>stock_bond_corr</th>\n",
       "      <td>1966-01-31</td>\n",
       "    </tr>\n",
       "  </tbody>\n",
       "</table>\n",
       "</div>"
      ],
      "text/plain": [
       "                first_date\n",
       "sp500           1963-01-31\n",
       "copper          1960-01-31\n",
       "oil             1946-01-31\n",
       "policy_rate     1934-01-31\n",
       "dgs10           1962-01-31\n",
       "yield_curve     1962-01-31\n",
       "market_vol      1928-02-29\n",
       "stock_bond_corr 1966-01-31"
      ]
     },
     "execution_count": 3,
     "metadata": {},
     "output_type": "execute_result"
    }
   ],
   "source": [
    "(\n",
    "    raw_macro.notna()\n",
    "             .apply(lambda col: col.idxmax())\n",
    "             .to_frame('first_date')\n",
    ")"
   ]
  },
  {
   "cell_type": "code",
   "execution_count": 4,
   "id": "e43d6ab7",
   "metadata": {},
   "outputs": [
    {
     "name": "stdout",
     "output_type": "stream",
     "text": [
      "First full-row date: 1976-12-31 00:00:00\n",
      "Final shape: (577, 8)\n"
     ]
    }
   ],
   "source": [
    "# 4.1 annual difference\n",
    "diff = raw_macro.diff(LOOKBACK_M)\n",
    "\n",
    "# 4.2 rolling μ and σ (unbiased σ not needed for z anyway)\n",
    "mu  = diff.rolling(ROLL_M, min_periods=ROLL_M).mean()\n",
    "std = diff.rolling(ROLL_M, min_periods=ROLL_M).std(ddof=0)\n",
    "\n",
    "# 4.3 z-score + winsorise\n",
    "z = ((diff - mu) / std).clip(-CLIP_Z, CLIP_Z)\n",
    "\n",
    "# 4.4 drop rows that still have NaNs in *any* of the seven factors\n",
    "z = z.dropna(how=\"any\")\n",
    "print(\"First full-row date:\", z.index.min())\n",
    "print(\"Final shape:\", z.shape)"
   ]
  },
  {
   "cell_type": "code",
   "execution_count": 5,
   "id": "4321dc2e",
   "metadata": {},
   "outputs": [
    {
     "data": {
      "text/plain": [
       "array([[<Axes: title={'center': 'sp500'}>,\n",
       "        <Axes: title={'center': 'copper'}>,\n",
       "        <Axes: title={'center': 'oil'}>],\n",
       "       [<Axes: title={'center': 'policy_rate'}>,\n",
       "        <Axes: title={'center': 'dgs10'}>,\n",
       "        <Axes: title={'center': 'yield_curve'}>],\n",
       "       [<Axes: title={'center': 'market_vol'}>,\n",
       "        <Axes: title={'center': 'stock_bond_corr'}>, <Axes: >]],\n",
       "      dtype=object)"
      ]
     },
     "execution_count": 5,
     "metadata": {},
     "output_type": "execute_result"
    },
    {
     "data": {
      "image/png": "[encoded data removed]",
      "text/plain": [
       "<Figure size 1000x600 with 9 Axes>"
      ]
     },
     "metadata": {},
     "output_type": "display_data"
    }
   ],
   "source": [
    "# histogram for a quick eyeball\n",
    "z.hist(figsize=(10,6), bins=25, layout=(3,3))"
   ]
  },
  {
   "cell_type": "code",
   "execution_count": 6,
   "id": "87f14e57",
   "metadata": {},
   "outputs": [
    {
     "data": {
      "text/html": [
       "<div>\n",
       "<style scoped>\n",
       "    .dataframe tbody tr th:only-of-type {\n",
       "        vertical-align: middle;\n",
       "    }\n",
       "\n",
       "    .dataframe tbody tr th {\n",
       "        vertical-align: top;\n",
       "    }\n",
       "\n",
       "    .dataframe thead th {\n",
       "        text-align: right;\n",
       "    }\n",
       "</style>\n",
       "<table border=\"1\" class=\"dataframe\">\n",
       "  <thead>\n",
       "    <tr style=\"text-align: right;\">\n",
       "      <th></th>\n",
       "      <th>sp500</th>\n",
       "      <th>copper</th>\n",
       "      <th>oil</th>\n",
       "      <th>policy_rate</th>\n",
       "      <th>dgs10</th>\n",
       "      <th>yield_curve</th>\n",
       "      <th>market_vol</th>\n",
       "      <th>stock_bond_corr</th>\n",
       "    </tr>\n",
       "  </thead>\n",
       "  <tbody>\n",
       "    <tr>\n",
       "      <th>mean</th>\n",
       "      <td>0.402758</td>\n",
       "      <td>0.115418</td>\n",
       "      <td>0.094441</td>\n",
       "      <td>0.101179</td>\n",
       "      <td>0.093524</td>\n",
       "      <td>-0.064298</td>\n",
       "      <td>0.011499</td>\n",
       "      <td>-0.097370</td>\n",
       "    </tr>\n",
       "    <tr>\n",
       "      <th>std</th>\n",
       "      <td>1.359797</td>\n",
       "      <td>1.103941</td>\n",
       "      <td>1.223687</td>\n",
       "      <td>1.125970</td>\n",
       "      <td>1.093258</td>\n",
       "      <td>1.009392</td>\n",
       "      <td>0.940199</td>\n",
       "      <td>1.191556</td>\n",
       "    </tr>\n",
       "    <tr>\n",
       "      <th>min</th>\n",
       "      <td>-3.000000</td>\n",
       "      <td>-3.000000</td>\n",
       "      <td>-3.000000</td>\n",
       "      <td>-3.000000</td>\n",
       "      <td>-3.000000</td>\n",
       "      <td>-3.000000</td>\n",
       "      <td>-3.000000</td>\n",
       "      <td>-3.000000</td>\n",
       "    </tr>\n",
       "    <tr>\n",
       "      <th>max</th>\n",
       "      <td>3.000000</td>\n",
       "      <td>3.000000</td>\n",
       "      <td>3.000000</td>\n",
       "      <td>3.000000</td>\n",
       "      <td>3.000000</td>\n",
       "      <td>3.000000</td>\n",
       "      <td>3.000000</td>\n",
       "      <td>3.000000</td>\n",
       "    </tr>\n",
       "  </tbody>\n",
       "</table>\n",
       "</div>"
      ],
      "text/plain": [
       "         sp500    copper       oil  policy_rate     dgs10  yield_curve  \\\n",
       "mean  0.402758  0.115418  0.094441     0.101179  0.093524    -0.064298   \n",
       "std   1.359797  1.103941  1.223687     1.125970  1.093258     1.009392   \n",
       "min  -3.000000 -3.000000 -3.000000    -3.000000 -3.000000    -3.000000   \n",
       "max   3.000000  3.000000  3.000000     3.000000  3.000000     3.000000   \n",
       "\n",
       "      market_vol  stock_bond_corr  \n",
       "mean    0.011499        -0.097370  \n",
       "std     0.940199         1.191556  \n",
       "min    -3.000000        -3.000000  \n",
       "max     3.000000         3.000000  "
      ]
     },
     "execution_count": 6,
     "metadata": {},
     "output_type": "execute_result"
    }
   ],
   "source": [
    "# mean and std should be ~0 and ~1 after clipping\n",
    "z.describe().loc[['mean','std','min','max']]"
   ]
  },
  {
   "cell_type": "code",
   "execution_count": 8,
   "id": "a8a04207",
   "metadata": {},
   "outputs": [
    {
     "name": "stdout",
     "output_type": "stream",
     "text": [
      "➡  saved to /Users/akash009/rl-asset-allocation/data/processed/macro_zscores_monthly.csv\n"
     ]
    }
   ],
   "source": [
    "z.to_csv(OUT_FILE)\n",
    "print(\"➡  saved to\", OUT_FILE.resolve())"
   ]
  }
 ],
 "metadata": {
  "kernelspec": {
   "display_name": "rl-asset-env",
   "language": "python",
   "name": "python3"
  },
  "language_info": {
   "codemirror_mode": {
    "name": "ipython",
    "version": 3
   },
   "file_extension": ".py",
   "mimetype": "text/x-python",
   "name": "python",
   "nbconvert_exporter": "python",
   "pygments_lexer": "ipython3",
   "version": "3.11.11"
  }
 },
 "nbformat": 4,
 "nbformat_minor": 5
}
