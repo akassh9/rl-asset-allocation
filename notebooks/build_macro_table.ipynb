{
 "cells": [
  {
   "cell_type": "code",
   "execution_count": 1,
   "id": "5fed99ee",
   "metadata": {},
   "outputs": [],
   "source": [
    "import pandas as pd\n",
    "import numpy as np\n",
    "from pathlib import Path\n",
    "data_dir = Path(\"../data/processed\")"
   ]
  },
  {
   "cell_type": "markdown",
   "id": "735f16ba",
   "metadata": {},
   "source": [
    "### Load & standardize"
   ]
  },
  {
   "cell_type": "code",
   "execution_count": 4,
   "id": "bc391d17",
   "metadata": {},
   "outputs": [],
   "source": [
    "sp500 = (\n",
    "    pd.read_csv(data_dir / \"sp500_merged.csv\")\n",
    "      .rename(columns={'Adj_Close_Combined':'sp500'})\n",
    "      .assign(Date=lambda df: pd.to_datetime(df['Date']))\n",
    "      .set_index('Date')[['sp500']]\n",
    ")"
   ]
  },
  {
   "cell_type": "code",
   "execution_count": null,
   "id": "91e610d1",
   "metadata": {},
   "outputs": [],
   "source": [
    "copper = (\n",
    "    pd.read_csv(data_dir / \"copper_monthly_cleaned.csv\")\n",
    "      .rename(columns={'copper_price':'copper'})\n",
    "      .assign(date=lambda df: pd.to_datetime(df['date'], format='%m/%d/%Y'))\n",
    "      .set_index('date')[['copper']]\n",
    ")"
   ]
  },
  {
   "cell_type": "code",
   "execution_count": 6,
   "id": "a9e0858d",
   "metadata": {},
   "outputs": [],
   "source": [
    "def load_fred(file, col_new):\n",
    "    df = pd.read_csv(data_dir / file, index_col=0, parse_dates=True)\n",
    "    return df.rename(columns={df.columns[0]: col_new})"
   ]
  },
  {
   "cell_type": "code",
   "execution_count": 7,
   "id": "a96ad073",
   "metadata": {},
   "outputs": [],
   "source": [
    "dgs10  = load_fred(\"dgs10.csv\",   \"dgs10\")\n",
    "tb3ms  = load_fred(\"tb3ms.csv\",   \"tb3ms\")\n",
    "oil    = load_fred(\"wtisplc.csv\", \"oil\")\n",
    "vix    = load_fred(\"vixcls.csv\",  \"vix\")"
   ]
  },
  {
   "cell_type": "code",
   "execution_count": 28,
   "id": "0bf96311",
   "metadata": {},
   "outputs": [],
   "source": [
    "# ---------- 0. helper --------------------------------------------------------\n",
    "def to_month_end(df):\n",
    "    out = df.copy()\n",
    "    out.index = out.index.to_period('M').to_timestamp('M')\n",
    "    return out"
   ]
  },
  {
   "cell_type": "code",
   "execution_count": 29,
   "id": "f9de0b42",
   "metadata": {},
   "outputs": [],
   "source": [
    "# ---------- 1. month-end everything first -----------------------------------\n",
    "sp500  = to_month_end(sp500)\n",
    "copper = to_month_end(copper)\n",
    "dgs10  = to_month_end(dgs10)\n",
    "tb3ms  = to_month_end(tb3ms)\n",
    "oil    = to_month_end(oil)\n",
    "vix    = to_month_end(vix)"
   ]
  },
  {
   "cell_type": "code",
   "execution_count": 36,
   "id": "ab7aba01",
   "metadata": {},
   "outputs": [],
   "source": [
    "# realised vol (pre-1990 proxy) ---------------------------------------------\n",
    "sp500_daily['ret'] = sp500_daily['adj_close'].pct_change()\n",
    "sp500_daily['realized_vol'] = sp500_daily['ret'].rolling(21).std() * np.sqrt(252)\n",
    "realized_vol_m = (\n",
    "    sp500_daily['realized_vol']\n",
    "      .resample('ME').last()\n",
    "      .to_frame('market_vol')\n",
    "      .pipe(to_month_end)\n",
    ")"
   ]
  },
  {
   "cell_type": "code",
   "execution_count": 37,
   "id": "af74ecdc",
   "metadata": {},
   "outputs": [],
   "source": [
    "# overwrite with VIX from Jan-1990 onward\n",
    "vix_m = vix.resample('ME').last().rename(columns={'vix': 'market_vol'})\n",
    "market_vol = realized_vol_m.combine_first(vix_m)   # realised <1990, VIX ≥1990\n"
   ]
  },
  {
   "cell_type": "code",
   "execution_count": 38,
   "id": "71a7c8e3",
   "metadata": {},
   "outputs": [],
   "source": [
    "# ---------- 2. derived series -----------------------------------------------\n",
    "yield_curve = (dgs10['dgs10'] - tb3ms['tb3ms']).to_frame('yield_curve')"
   ]
  },
  {
   "cell_type": "code",
   "execution_count": 39,
   "id": "d590b867",
   "metadata": {},
   "outputs": [],
   "source": [
    "# ---------- 3. assemble raw panel -------------------------------------------\n",
    "raw_macro = (\n",
    "    sp500.join([\n",
    "        copper,\n",
    "        oil,\n",
    "        tb3ms.rename(columns={'tb3ms': 'policy_rate'}),\n",
    "        dgs10,                        # keep raw 10-y yield\n",
    "        yield_curve,\n",
    "        market_vol\n",
    "    ], how='outer')                  # <-- keep the full history\n",
    ").sort_index()"
   ]
  },
  {
   "cell_type": "code",
   "execution_count": 40,
   "id": "ff7eeb16",
   "metadata": {},
   "outputs": [],
   "source": [
    "# ---------- 4. stock-bond 36-m corr -----------------------------------------\n",
    "sp500_ret = raw_macro['sp500'].pct_change()\n",
    "dgs10_chg = raw_macro['dgs10'].diff()\n",
    "raw_macro['stock_bond_corr'] = (\n",
    "    sp500_ret.rolling(36, min_periods=36).corr(dgs10_chg)\n",
    ")"
   ]
  },
  {
   "cell_type": "code",
   "execution_count": 41,
   "id": "c366f9c7",
   "metadata": {},
   "outputs": [
    {
     "name": "stdout",
     "output_type": "stream",
     "text": [
      "▶ raw_macro saved: (1169, 8) rows/cols\n"
     ]
    }
   ],
   "source": [
    "# ---------- 5. save ----------------------------------------------------------\n",
    "raw_macro.to_csv(data_dir / \"raw_macro_monthly.csv\")\n",
    "print(\"▶ raw_macro saved:\", raw_macro.shape, \"rows/cols\")"
   ]
  }
 ],
 "metadata": {
  "kernelspec": {
   "display_name": "rl-asset-env",
   "language": "python",
   "name": "python3"
  },
  "language_info": {
   "codemirror_mode": {
    "name": "ipython",
    "version": 3
   },
   "file_extension": ".py",
   "mimetype": "text/x-python",
   "name": "python",
   "nbconvert_exporter": "python",
   "pygments_lexer": "ipython3",
   "version": "3.11.11"
  }
 },
 "nbformat": 4,
 "nbformat_minor": 5
}
