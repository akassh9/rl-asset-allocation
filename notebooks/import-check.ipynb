{
 "cells": [
  {
   "cell_type": "code",
   "execution_count": 1,
   "id": "93d1bf45-f558-492e-85f8-e2cafc3dfda9",
   "metadata": {},
   "outputs": [
    {
     "name": "stdout",
     "output_type": "stream",
     "text": [
      "2.2.3 0.29.1 2.2.0.post100\n"
     ]
    }
   ],
   "source": [
    "import pandas as pd, gymnasium as gym\n",
    "from stable_baselines3 import PPO\n",
    "import torch, yfinance, fredapi\n",
    "print(pd.__version__, gym.__version__, torch.__version__)"
   ]
  }
 ],
 "metadata": {
  "kernelspec": {
   "display_name": "rl-asset-env",
   "language": "python",
   "name": "python3"
  },
  "language_info": {
   "codemirror_mode": {
    "name": "ipython",
    "version": 3
   },
   "file_extension": ".py",
   "mimetype": "text/x-python",
   "name": "python",
   "nbconvert_exporter": "python",
   "pygments_lexer": "ipython3",
   "version": "3.9.22"
  }
 },
 "nbformat": 4,
 "nbformat_minor": 5
}
