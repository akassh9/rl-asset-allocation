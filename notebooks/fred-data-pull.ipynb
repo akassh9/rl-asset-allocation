{
 "cells": [
  {
   "cell_type": "code",
   "execution_count": 1,
   "id": "27f41655",
   "metadata": {},
   "outputs": [],
   "source": [
    "from pandas_datareader import data as web\n",
    "from datetime import datetime"
   ]
  },
  {
   "cell_type": "code",
   "execution_count": 2,
   "id": "a78cf255",
   "metadata": {},
   "outputs": [],
   "source": [
    "def fetch_fred_series(series_code, start='1900-01-01', end=None):\n",
    "    if end is None:\n",
    "        end = datetime.today().strftime('%Y-%m-%d')\n",
    "    df = web.DataReader(series_code, 'fred', start=start, end=end)\n",
    "    df = df.resample('ME').last()          # month-end\n",
    "    df.columns = [series_code]\n",
    "    return df"
   ]
  },
  {
   "cell_type": "code",
   "execution_count": 3,
   "id": "026b486c",
   "metadata": {},
   "outputs": [],
   "source": [
    "dgs10  = fetch_fred_series('DGS10')\n",
    "tb3ms  = fetch_fred_series('TB3MS')\n",
    "wtisplc = fetch_fred_series('WTISPLC')\n",
    "vixcls = fetch_fred_series('VIXCLS') "
   ]
  },
  {
   "cell_type": "code",
   "execution_count": 4,
   "id": "24aedc3c",
   "metadata": {},
   "outputs": [
    {
     "name": "stdout",
     "output_type": "stream",
     "text": [
      "            DGS10\n",
      "DATE             \n",
      "1962-01-31   4.10\n",
      "1962-02-28   4.00\n",
      "1962-03-31   3.86\n",
      "1962-04-30   3.86\n",
      "1962-05-31   3.90\n"
     ]
    }
   ],
   "source": [
    "print(dgs10.head())"
   ]
  },
  {
   "cell_type": "code",
   "execution_count": 5,
   "id": "7f74b5b5",
   "metadata": {},
   "outputs": [],
   "source": [
    "from pathlib import Path"
   ]
  },
  {
   "cell_type": "code",
   "execution_count": 6,
   "id": "28f4bc14",
   "metadata": {},
   "outputs": [],
   "source": [
    "data_dir = Path(\"../data/processed\")\n",
    "data_dir.mkdir(parents=True, exist_ok=True)"
   ]
  },
  {
   "cell_type": "code",
   "execution_count": 7,
   "id": "f8babef5",
   "metadata": {},
   "outputs": [],
   "source": [
    "dgs10.to_csv(data_dir / \"dgs10.csv\")\n",
    "tb3ms.to_csv(data_dir / \"tb3ms.csv\")\n",
    "wtisplc.to_csv(data_dir / \"wtisplc.csv\")\n",
    "vixcls.to_csv(data_dir / \"vixcls.csv\")"
   ]
  }
 ],
 "metadata": {
  "kernelspec": {
   "display_name": "rl-asset-env",
   "language": "python",
   "name": "python3"
  },
  "language_info": {
   "codemirror_mode": {
    "name": "ipython",
    "version": 3
   },
   "file_extension": ".py",
   "mimetype": "text/x-python",
   "name": "python",
   "nbconvert_exporter": "python",
   "pygments_lexer": "ipython3",
   "version": "3.11.11"
  }
 },
 "nbformat": 4,
 "nbformat_minor": 5
}
