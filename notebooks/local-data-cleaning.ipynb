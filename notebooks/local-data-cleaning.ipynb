{
 "cells": [
  {
   "cell_type": "code",
   "execution_count": 1,
   "id": "799b7f8c",
   "metadata": {},
   "outputs": [],
   "source": [
    "import pandas as pd"
   ]
  },
  {
   "cell_type": "code",
   "execution_count": 5,
   "id": "22a768a3",
   "metadata": {},
   "outputs": [],
   "source": [
    "# S&P 500 Monthly\n",
    "sp500_monthly = (\n",
    "    pd.read_csv('/Users/akash009/rl-asset-allocation/data/raw/sp500_merged.csv')\n",
    "    .rename(columns={'Adj_Close_Combined': 'sp500'})\n",
    "    .assign(Date=lambda df: pd.to_datetime(df['Date']))\n",
    "    .set_index('Date')\n",
    ")"
   ]
  },
  {
   "cell_type": "code",
   "execution_count": 6,
   "id": "70f95e1c",
   "metadata": {},
   "outputs": [],
   "source": [
    "# S&P 500 Daily\n",
    "sp500_daily = (\n",
    "    pd.read_csv('/Users/akash009/rl-asset-allocation/data/raw/sp500_daily.csv')\n",
    "    .rename(columns={'Adj Close': 'adj_close'})\n",
    "    .assign(Date=lambda df: pd.to_datetime(df['Date']))\n",
    "    .set_index('Date')\n",
    ")"
   ]
  },
  {
   "cell_type": "code",
   "execution_count": 7,
   "id": "82e34423",
   "metadata": {},
   "outputs": [],
   "source": [
    "# Copper Monthly\n",
    "copper = (\n",
    "    pd.read_csv('/Users/akash009/rl-asset-allocation/data/raw/copper_monthly_cleaned.csv')\n",
    "    .rename(columns={'copper_price': 'copper'})\n",
    "    .assign(date=lambda df: pd.to_datetime(df['date'], format='%m/%d/%Y'))\n",
    "    .set_index('date')\n",
    ")"
   ]
  },
  {
   "cell_type": "code",
   "execution_count": 8,
   "id": "ffc6b596",
   "metadata": {},
   "outputs": [
    {
     "name": "stdout",
     "output_type": "stream",
     "text": [
      "                sp500\n",
      "Date                 \n",
      "1963-01-01  65.406561\n",
      "1963-02-01  66.271142\n",
      "1963-03-01  66.019810\n",
      "1963-04-01  69.126270\n",
      "1963-05-01  70.513621\n",
      "            adj_close\n",
      "Date                 \n",
      "1928-01-03  17.760000\n",
      "1928-01-04  17.719999\n",
      "1928-01-05  17.549999\n",
      "1928-01-06  17.660000\n",
      "1928-01-09  17.500000\n",
      "            copper\n",
      "date              \n",
      "1960-01-31  715.40\n",
      "1960-02-29  728.19\n",
      "1960-03-31  684.94\n",
      "1960-04-30  723.11\n",
      "1960-05-31  684.75\n"
     ]
    }
   ],
   "source": [
    "print(sp500_monthly.head())\n",
    "print(sp500_daily.head())\n",
    "print(copper.head())"
   ]
  }
 ],
 "metadata": {
  "kernelspec": {
   "display_name": "Python (rl‑asset)",
   "language": "python",
   "name": "rl-asset-env"
  },
  "language_info": {
   "codemirror_mode": {
    "name": "ipython",
    "version": 3
   },
   "file_extension": ".py",
   "mimetype": "text/x-python",
   "name": "python",
   "nbconvert_exporter": "python",
   "pygments_lexer": "ipython3",
   "version": "3.11.11"
  }
 },
 "nbformat": 4,
 "nbformat_minor": 5
}
