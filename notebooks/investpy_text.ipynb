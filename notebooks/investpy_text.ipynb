{
 "cells": [
  {
   "cell_type": "code",
   "execution_count": 2,
   "id": "1df29dbc",
   "metadata": {},
   "outputs": [
    {
     "name": "stdout",
     "output_type": "stream",
     "text": [
      "['S&P Merval', 'BNY Mellon Argentina ADR TR', 'BNY Mellon Argentina ADR', 'MAE Fixed Income', 'S&P/BYMA Argentina General', 'S&P Merval Argentina', 'S&P/BYMA Utilities', 'S&P/BYMA Real Estate', 'MSCI Argentina', 'S&P/BYMA Industrials', 'S&P/BYMA Financials', 'S&P/BYMA Energy', 'S&P/BYMA Consumer Staples', 'S&P/BYMA Communication Services', 'S&P/BYMA Consumer Discretionary', 'S&P/BYMA Materials', 'S&P ASX Financials x a r Accum', 'SP/ASX 100 Accum', 'SP/ASX 20 Accum', 'S&P/ASX 200 A Reit Equal Weight', 'S&P/ASX 200 Equal Weight', 'S&P/ASX 200 Net Total Return', 'S&P/ASX 200 Real Inverse Daily', 'S&P/ASX 200 VIX', 'S&P/ASX Buy Write', 'SP/ASX 50 Accum', 'S&P ASX Dividend Opportunities Accum', 'S&P/ASX Dividend Opportunities', 'S&P/ASX Emerging Companies', 'S&P/ASX Financials ex REIT', 'S&P/ASX Franked Dividend', 'S&P/ASX Small Ordinaries Resources', 'S&P/ASX 300 Shareholder Yield', 'S&P ASX 300 Property GIC Accum', 'S&P ASX 200 Inverse Daily x2', 'S&P ASX 200 Reit GIC Accum', 'S&P/ASX Midcap 50 Industrials', 'S&P/ASX Midcap 50 Resources', 'S&P/ASX Small Ordinaries Industrials', 'ASX Small Ordinaries Accum', 'FTSE ASFA Australia 100', 'FTSE ASFA Australia 200', 'FTSE ASFA Australia 300', 'S&P ASX 300 Accum', 'FTSE ASFA Australia All Share', 'FTSE ASFA Australia Large Cap 50', 'FTSE ASFA Australia Mid Cap 150', 'FTSE ASFA Australia Small Cap', 'FTSE Australia', 'FTSE RAFI Australia 200', 'Australia 50', 'DJ Australia Select Dividend 30 TR', 'FTSE ASFA Australia All Share ex 100', 'STOXX True Exposure AU 50% EUR Price', 'STOXX True Exposure AU 50% AUD GR', 'STOXX True Exposure AU 50% USD GR', 'BNY Mellon Australia Classic ADR', 'BNY Mellon Australia ADR TR', 'BNY Mellon Australia ADR', 'DJ Australia LPT', 'S&P/ASX 200 Accumulated', 'TR Australia 50', 'TR Australia 10 Years Government Benchmark', 'BNY Mellon Australia Classic ADR TR', 'TR Australia 2 Years Government Benchmark', 'TR Australia 7 Years Government Benchmark', 'TR Australia 3 Years Government Benchmark', 'NQ Australia Telecommunications', 'DJ Australia', 'DJ Australia USD', 'MSCI Australia AUD', 'MSCI Australia USD', 'TR Australia 5 Years Government Benchmark', 'DJ Australia SelDiv 30 Distr EUR', 'DJ Australia Large-Cap', 'DJ Australia Mid-Cap', 'STOXX True Exposure AU 50% EUR GR', 'S&P/ASX 300 Utilities Industry', 'STOXX True Exposure AU 50% AUD Price', 'STOXX AU 50 Risk 5% RV EUR', 'STOXX AU 50 Risk 5% RV USD', 'STOXX AU 50 Risk 20% RV EUR', 'STOXX AU 50 Risk 20% RV USD', 'STOXX AU 50 Risk 15% RV EUR', 'STOXX AU 50 Risk 15% RV USD', 'STOXX AU 50 Risk 10% RV EUR', 'STOXX AU 50 Risk 10% RV USD', 'STOXX AU 50 Daily EUR', 'STOXX AU 50 Daily EUR', 'STOXX AU 50 Daily 4 EUR', 'FTSE Australia High Dividend Yield', 'DJ Australia SelDiv 30', 'DJ Australia Small-Cap', 'STOXX True Exposure AU 50% USD Price', 'S&P/ASX 300 Utilities', 'S&P ASX 200 Leverage x2', 'S&P/ASX 300 Telecommunication Services Industry', 'S&P/ASX Midcap 50', 'FTSE EPRA/NAREIT Australia', 'S&P/ASX 100 Industrials']\n"
     ]
    }
   ],
   "source": [
    "import investpy\n",
    "\n",
    "print(investpy.indices.get_indices_list()[:100])"
   ]
  }
 ],
 "metadata": {
  "kernelspec": {
   "display_name": "rl-asset-env",
   "language": "python",
   "name": "python3"
  },
  "language_info": {
   "codemirror_mode": {
    "name": "ipython",
    "version": 3
   },
   "file_extension": ".py",
   "mimetype": "text/x-python",
   "name": "python",
   "nbconvert_exporter": "python",
   "pygments_lexer": "ipython3",
   "version": "3.11.11"
  }
 },
 "nbformat": 4,
 "nbformat_minor": 5
}
